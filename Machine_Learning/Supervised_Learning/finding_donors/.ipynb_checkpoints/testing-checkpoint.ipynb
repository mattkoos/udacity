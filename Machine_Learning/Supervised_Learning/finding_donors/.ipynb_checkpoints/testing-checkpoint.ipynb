{
 "cells": [
  {
   "cell_type": "code",
   "execution_count": 21,
   "metadata": {},
   "outputs": [
    {
     "name": "stdout",
     "output_type": "stream",
     "text": [
      "11111111\n",
      "255\n"
     ]
    }
   ],
   "source": [
    "GPIOB = [True, True, True, True, True, True, True, True]\n",
    "#GPIOB = [True, False, False, False, False, False, False, False]\n",
    "LED_binary_B = ''\n",
    "for value in GPIOB:\n",
    "    LED_binary_B += str(int(value))\n",
    "    GPB = int(LED_binary_B, 2)\n",
    "print LED_binary_B\n",
    "print GPB"
   ]
  },
  {
   "cell_type": "code",
   "execution_count": null,
   "metadata": {
    "collapsed": true
   },
   "outputs": [],
   "source": []
  }
 ],
 "metadata": {
  "anaconda-cloud": {},
  "kernelspec": {
   "display_name": "Python 2",
   "language": "python",
   "name": "python2"
  },
  "language_info": {
   "codemirror_mode": {
    "name": "ipython",
    "version": 2
   },
   "file_extension": ".py",
   "mimetype": "text/x-python",
   "name": "python",
   "nbconvert_exporter": "python",
   "pygments_lexer": "ipython2",
   "version": "2.7.12"
  }
 },
 "nbformat": 4,
 "nbformat_minor": 2
}
