{
 "cells": [
  {
   "cell_type": "code",
   "execution_count": 21,
   "metadata": {},
   "outputs": [
    {
     "name": "stdout",
     "output_type": "stream",
     "text": [
      "11111111\n",
      "255\n"
     ]
    }
   ],
   "source": [
    "GPIOB = [True, True, True, True, True, True, True, True]\n",
    "#GPIOB = [True, False, False, False, False, False, False, False]\n",
    "LED_binary_B = ''\n",
    "for value in GPIOB:\n",
    "    LED_binary_B += str(int(value))\n",
    "    GPB = int(LED_binary_B, 2)\n",
    "print LED_binary_B\n",
    "print GPB"
   ]
  },
  {
   "cell_type": "code",
   "execution_count": 5,
   "metadata": {},
   "outputs": [
    {
     "name": "stdout",
     "output_type": "stream",
     "text": [
      "[True, False, True, False, True, True, False, True]\n"
     ]
    },
    {
     "ename": "AttributeError",
     "evalue": "'list' object has no attribute 'sum'",
     "output_type": "error",
     "traceback": [
      "\u001b[0;31m---------------------------------------------------------------------------\u001b[0m",
      "\u001b[0;31mAttributeError\u001b[0m                            Traceback (most recent call last)",
      "\u001b[0;32m<ipython-input-5-e22e6ae4ffcd>\u001b[0m in \u001b[0;36m<module>\u001b[0;34m()\u001b[0m\n\u001b[1;32m      8\u001b[0m \u001b[1;33m\u001b[0m\u001b[0m\n\u001b[1;32m      9\u001b[0m \u001b[1;32mprint\u001b[0m \u001b[0mabcd\u001b[0m\u001b[1;33m\u001b[0m\u001b[0m\n\u001b[0;32m---> 10\u001b[0;31m \u001b[0mabcd\u001b[0m\u001b[1;33m.\u001b[0m\u001b[0msum\u001b[0m\u001b[1;33m(\u001b[0m\u001b[1;33m)\u001b[0m\u001b[1;33m\u001b[0m\u001b[0m\n\u001b[0m",
      "\u001b[0;31mAttributeError\u001b[0m: 'list' object has no attribute 'sum'"
     ]
    }
   ],
   "source": [
    "ab = [1, 1, 1, 1, 0, 0, 0, 0]\n",
    "cd = [1, 0, 1, 0, 0, 0, 1, 0]\n",
    "#ab == de\n",
    "abcd = []\n",
    "for i in range(len(ab)):\n",
    "    same = ab[i] == cd[i]\n",
    "    abcd.append(same)\n",
    "    \n",
    "print abcd\n",
    "abcd.sum()"
   ]
  },
  {
   "cell_type": "code",
   "execution_count": null,
   "metadata": {
    "collapsed": true
   },
   "outputs": [],
   "source": [
    "start = time()\n",
    "abcd = []\n",
    "for i in range(len(ab)):\n",
    "    same = ab[i] == cd[i]\n",
    "    abcd.append(same)\n",
    "end = time()\n",
    "print end - start"
   ]
  },
  {
   "cell_type": "code",
   "execution_count": 9,
   "metadata": {},
   "outputs": [
    {
     "name": "stdout",
     "output_type": "stream",
     "text": [
      "set([0, 1])\n"
     ]
    }
   ],
   "source": [
    "ab = [1, 1, 1, 1, 0, 0, 0, 0]\n",
    "abset = set(ab)\n",
    "print abset"
   ]
  },
  {
   "cell_type": "code",
   "execution_count": null,
   "metadata": {
    "collapsed": true
   },
   "outputs": [],
   "source": [
    "start = time()\n",
    "abcd = []\n",
    "for i in range(len(ab)):\n",
    "    same = ab[i] == cd[i]\n",
    "    abcd.append(same)\n",
    "end = time()\n",
    "print end - start"
   ]
  }
 ],
 "metadata": {
  "anaconda-cloud": {},
  "kernelspec": {
   "display_name": "Python 2",
   "language": "python",
   "name": "python2"
  },
  "language_info": {
   "codemirror_mode": {
    "name": "ipython",
    "version": 2
   },
   "file_extension": ".py",
   "mimetype": "text/x-python",
   "name": "python",
   "nbconvert_exporter": "python",
   "pygments_lexer": "ipython2",
   "version": "2.7.12"
  }
 },
 "nbformat": 4,
 "nbformat_minor": 2
}
